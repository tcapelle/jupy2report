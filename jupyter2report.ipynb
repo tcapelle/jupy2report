{
 "cells": [
  {
   "cell_type": "markdown",
   "metadata": {},
   "source": [
    "# Converting a jupyter notebook to W&B report\n",
    "this is a subtitle"
   ]
  },
  {
   "cell_type": "markdown",
   "metadata": {},
   "source": [
    "Let's install the required libs:"
   ]
  },
  {
   "cell_type": "code",
   "execution_count": 60,
   "metadata": {},
   "outputs": [
    {
     "name": "stdout",
     "output_type": "stream",
     "text": [
      "Requirement already satisfied: wandb in /Users/tcapelle/miniforge3/envs/nbs/lib/python3.10/site-packages (0.12.21)\n",
      "Requirement already satisfied: execnb in /Users/tcapelle/miniforge3/envs/nbs/lib/python3.10/site-packages (0.0.6)\n",
      "Requirement already satisfied: GitPython>=1.0.0 in /Users/tcapelle/miniforge3/envs/nbs/lib/python3.10/site-packages (from wandb) (3.1.27)\n",
      "Requirement already satisfied: setuptools in /Users/tcapelle/miniforge3/envs/nbs/lib/python3.10/site-packages (from wandb) (62.6.0)\n",
      "Requirement already satisfied: six>=1.13.0 in /Users/tcapelle/miniforge3/envs/nbs/lib/python3.10/site-packages (from wandb) (1.16.0)\n",
      "Requirement already satisfied: docker-pycreds>=0.4.0 in /Users/tcapelle/miniforge3/envs/nbs/lib/python3.10/site-packages (from wandb) (0.4.0)\n",
      "Requirement already satisfied: setproctitle in /Users/tcapelle/miniforge3/envs/nbs/lib/python3.10/site-packages (from wandb) (1.2.3)\n",
      "Requirement already satisfied: promise<3,>=2.0 in /Users/tcapelle/miniforge3/envs/nbs/lib/python3.10/site-packages (from wandb) (2.3)\n",
      "Requirement already satisfied: requests<3,>=2.0.0 in /Users/tcapelle/miniforge3/envs/nbs/lib/python3.10/site-packages (from wandb) (2.28.0)\n",
      "Requirement already satisfied: psutil>=5.0.0 in /Users/tcapelle/miniforge3/envs/nbs/lib/python3.10/site-packages (from wandb) (5.9.1)\n",
      "Requirement already satisfied: PyYAML in /Users/tcapelle/miniforge3/envs/nbs/lib/python3.10/site-packages (from wandb) (6.0)\n",
      "Requirement already satisfied: shortuuid>=0.5.0 in /Users/tcapelle/miniforge3/envs/nbs/lib/python3.10/site-packages (from wandb) (1.0.9)\n",
      "Requirement already satisfied: sentry-sdk>=1.0.0 in /Users/tcapelle/miniforge3/envs/nbs/lib/python3.10/site-packages (from wandb) (1.7.2)\n",
      "Requirement already satisfied: protobuf<4.0dev,>=3.12.0 in /Users/tcapelle/miniforge3/envs/nbs/lib/python3.10/site-packages (from wandb) (3.20.1)\n",
      "Requirement already satisfied: pathtools in /Users/tcapelle/miniforge3/envs/nbs/lib/python3.10/site-packages (from wandb) (0.1.2)\n",
      "Requirement already satisfied: Click!=8.0.0,>=7.0 in /Users/tcapelle/miniforge3/envs/nbs/lib/python3.10/site-packages (from wandb) (8.1.3)\n",
      "Requirement already satisfied: ipython in /Users/tcapelle/miniforge3/envs/nbs/lib/python3.10/site-packages (from execnb) (8.4.0)\n",
      "Requirement already satisfied: fastcore>=1.3.27 in /Users/tcapelle/miniforge3/envs/nbs/lib/python3.10/site-packages (from execnb) (1.4.5)\n",
      "Requirement already satisfied: packaging in /Users/tcapelle/miniforge3/envs/nbs/lib/python3.10/site-packages (from fastcore>=1.3.27->execnb) (21.3)\n",
      "Requirement already satisfied: pip in /Users/tcapelle/miniforge3/envs/nbs/lib/python3.10/site-packages (from fastcore>=1.3.27->execnb) (22.1.2)\n",
      "Requirement already satisfied: gitdb<5,>=4.0.1 in /Users/tcapelle/miniforge3/envs/nbs/lib/python3.10/site-packages (from GitPython>=1.0.0->wandb) (4.0.9)\n",
      "Requirement already satisfied: idna<4,>=2.5 in /Users/tcapelle/miniforge3/envs/nbs/lib/python3.10/site-packages (from requests<3,>=2.0.0->wandb) (3.3)\n",
      "Requirement already satisfied: certifi>=2017.4.17 in /Users/tcapelle/miniforge3/envs/nbs/lib/python3.10/site-packages (from requests<3,>=2.0.0->wandb) (2022.6.15)\n",
      "Requirement already satisfied: urllib3<1.27,>=1.21.1 in /Users/tcapelle/miniforge3/envs/nbs/lib/python3.10/site-packages (from requests<3,>=2.0.0->wandb) (1.26.9)\n",
      "Requirement already satisfied: charset-normalizer~=2.0.0 in /Users/tcapelle/miniforge3/envs/nbs/lib/python3.10/site-packages (from requests<3,>=2.0.0->wandb) (2.0.12)\n",
      "Requirement already satisfied: decorator in /Users/tcapelle/miniforge3/envs/nbs/lib/python3.10/site-packages (from ipython->execnb) (5.1.1)\n",
      "Requirement already satisfied: traitlets>=5 in /Users/tcapelle/miniforge3/envs/nbs/lib/python3.10/site-packages (from ipython->execnb) (5.3.0)\n",
      "Requirement already satisfied: pexpect>4.3 in /Users/tcapelle/miniforge3/envs/nbs/lib/python3.10/site-packages (from ipython->execnb) (4.8.0)\n",
      "Requirement already satisfied: pickleshare in /Users/tcapelle/miniforge3/envs/nbs/lib/python3.10/site-packages (from ipython->execnb) (0.7.5)\n",
      "Requirement already satisfied: matplotlib-inline in /Users/tcapelle/miniforge3/envs/nbs/lib/python3.10/site-packages (from ipython->execnb) (0.1.3)\n",
      "Requirement already satisfied: backcall in /Users/tcapelle/miniforge3/envs/nbs/lib/python3.10/site-packages (from ipython->execnb) (0.2.0)\n",
      "Requirement already satisfied: prompt-toolkit!=3.0.0,!=3.0.1,<3.1.0,>=2.0.0 in /Users/tcapelle/miniforge3/envs/nbs/lib/python3.10/site-packages (from ipython->execnb) (3.0.29)\n",
      "Requirement already satisfied: pygments>=2.4.0 in /Users/tcapelle/miniforge3/envs/nbs/lib/python3.10/site-packages (from ipython->execnb) (2.12.0)\n",
      "Requirement already satisfied: jedi>=0.16 in /Users/tcapelle/miniforge3/envs/nbs/lib/python3.10/site-packages (from ipython->execnb) (0.18.1)\n",
      "Requirement already satisfied: stack-data in /Users/tcapelle/miniforge3/envs/nbs/lib/python3.10/site-packages (from ipython->execnb) (0.3.0)\n",
      "Requirement already satisfied: appnope in /Users/tcapelle/miniforge3/envs/nbs/lib/python3.10/site-packages (from ipython->execnb) (0.1.3)\n",
      "Requirement already satisfied: smmap<6,>=3.0.1 in /Users/tcapelle/miniforge3/envs/nbs/lib/python3.10/site-packages (from gitdb<5,>=4.0.1->GitPython>=1.0.0->wandb) (5.0.0)\n",
      "Requirement already satisfied: parso<0.9.0,>=0.8.0 in /Users/tcapelle/miniforge3/envs/nbs/lib/python3.10/site-packages (from jedi>=0.16->ipython->execnb) (0.8.3)\n",
      "Requirement already satisfied: ptyprocess>=0.5 in /Users/tcapelle/miniforge3/envs/nbs/lib/python3.10/site-packages (from pexpect>4.3->ipython->execnb) (0.7.0)\n",
      "Requirement already satisfied: wcwidth in /Users/tcapelle/miniforge3/envs/nbs/lib/python3.10/site-packages (from prompt-toolkit!=3.0.0,!=3.0.1,<3.1.0,>=2.0.0->ipython->execnb) (0.2.5)\n",
      "Requirement already satisfied: pyparsing!=3.0.5,>=2.0.2 in /Users/tcapelle/miniforge3/envs/nbs/lib/python3.10/site-packages (from packaging->fastcore>=1.3.27->execnb) (3.0.9)\n",
      "Requirement already satisfied: asttokens in /Users/tcapelle/miniforge3/envs/nbs/lib/python3.10/site-packages (from stack-data->ipython->execnb) (2.0.5)\n",
      "Requirement already satisfied: executing in /Users/tcapelle/miniforge3/envs/nbs/lib/python3.10/site-packages (from stack-data->ipython->execnb) (0.8.3)\n",
      "Requirement already satisfied: pure-eval in /Users/tcapelle/miniforge3/envs/nbs/lib/python3.10/site-packages (from stack-data->ipython->execnb) (0.2.2)\n"
     ]
    }
   ],
   "source": [
    "# this is bash\n",
    "!pip install wandb execnb ipynbname"
   ]
  },
  {
   "cell_type": "markdown",
   "metadata": {},
   "source": [
    "We are going to read this notebook and create a report on W&B with it's content"
   ]
  },
  {
   "cell_type": "code",
   "execution_count": 42,
   "metadata": {},
   "outputs": [],
   "source": [
    "import wandb\n",
    "import wandb.apis.reports as wb\n",
    "\n",
    "import ipynbname\n",
    "from execnb.nbio import read_nb"
   ]
  },
  {
   "cell_type": "markdown",
   "metadata": {},
   "source": [
    "We can read the notebook by using `read_nb`"
   ]
  },
  {
   "cell_type": "code",
   "execution_count": 43,
   "metadata": {},
   "outputs": [],
   "source": [
    "fname = \"jupyter2report.ipynb\""
   ]
  },
  {
   "cell_type": "code",
   "execution_count": 44,
   "metadata": {},
   "outputs": [],
   "source": [
    "nb = read_nb(fname)"
   ]
  },
  {
   "cell_type": "markdown",
   "metadata": {},
   "source": [
    "the output is a dictionary containing the cells:"
   ]
  },
  {
   "cell_type": "code",
   "execution_count": 45,
   "metadata": {},
   "outputs": [
    {
     "data": {
      "text/plain": [
       "(#25) [{'cell_type': 'markdown', 'metadata': {}, 'source': '# Converting a jupyter notebook to W&B report\\nthis is a subtitle', 'idx_': 0},{'cell_type': 'markdown', 'metadata': {}, 'source': \"We are going to read this notebook and create a report on W&B with it's content\", 'idx_': 1},{'cell_type': 'code', 'execution_count': 23, 'metadata': {}, 'outputs': [], 'source': 'import wandb\\nimport wandb.apis.reports as wb\\n\\nfrom execnb.nbio import read_nb', 'idx_': 2},{'cell_type': 'markdown', 'metadata': {}, 'source': 'We can read the notebook by using `read_nb`', 'idx_': 3},{'cell_type': 'code', 'execution_count': 24, 'metadata': {}, 'outputs': [], 'source': 'fname = \"jupyter2report.ipynb\"', 'idx_': 4},{'cell_type': 'code', 'execution_count': 25, 'metadata': {}, 'outputs': [], 'source': 'nb = read_nb(fname)', 'idx_': 5},{'cell_type': 'markdown', 'metadata': {}, 'source': 'the output is a dictionary containing the cells:', 'idx_': 6},{'cell_type': 'code', 'execution_count': 26, 'metadata': {}, 'outputs': [{'data': {'text/plain': ['(#25) [{\\'cell_type\\': \\'markdown\\', \\'metadata\\': {}, \\'source\\': \\'# Converting a jupyter notebook to W&B report\\\\nthis is a subtitle\\', \\'idx_\\': 0},{\\'cell_type\\': \\'markdown\\', \\'metadata\\': {}, \\'source\\': \"We are going to read this notebook and create a report on W&B with it\\'s content\", \\'idx_\\': 1},{\\'cell_type\\': \\'code\\', \\'execution_count\\': 1, \\'metadata\\': {}, \\'outputs\\': [], \\'source\\': \\'import wandb\\\\nimport wandb.apis.reports as wb\\\\n\\\\nfrom execnb.nbio import read_nb\\', \\'idx_\\': 2},{\\'cell_type\\': \\'markdown\\', \\'metadata\\': {}, \\'source\\': \\'We can read the notebook by using `read_nb`\\', \\'idx_\\': 3},{\\'cell_type\\': \\'code\\', \\'execution_count\\': 2, \\'metadata\\': {}, \\'outputs\\': [], \\'source\\': \\'fname = \"jupyter2report.ipynb\"\\', \\'idx_\\': 4},{\\'cell_type\\': \\'code\\', \\'execution_count\\': 3, \\'metadata\\': {}, \\'outputs\\': [], \\'source\\': \\'nb = read_nb(fname)\\', \\'idx_\\': 5},{\\'cell_type\\': \\'markdown\\', \\'metadata\\': {}, \\'source\\': \\'the output is a dictionary containing the cells:\\', \\'idx_\\': 6},{\\'cell_type\\': \\'code\\', \\'execution_count\\': 4, \\'metadata\\': {}, \\'outputs\\': [{\\'data\\': {\\'text/plain\\': [\\'(#25) [{\\\\\\'cell_type\\\\\\': \\\\\\'markdown\\\\\\', \\\\\\'metadata\\\\\\': {}, \\\\\\'source\\\\\\': \\\\\\'# Converting a jupyter notebook to W&B report\\\\\\\\nthis is a subtitle\\\\\\', \\\\\\'idx_\\\\\\': 0},{\\\\\\'cell_type\\\\\\': \\\\\\'markdown\\\\\\', \\\\\\'metadata\\\\\\': {}, \\\\\\'source\\\\\\': \"We are going to read this notebook and create a report on W&B with it\\\\\\'s content\", \\\\\\'idx_\\\\\\': 1},{\\\\\\'cell_type\\\\\\': \\\\\\'code\\\\\\', \\\\\\'execution_count\\\\\\': 40, \\\\\\'metadata\\\\\\': {}, \\\\\\'outputs\\\\\\': [], \\\\\\'source\\\\\\': \\\\\\'import wandb\\\\\\\\nimport wandb.apis.reports as wb\\\\\\\\n\\\\\\\\nfrom execnb.nbio import read_nb\\\\\\', \\\\\\'idx_\\\\\\': 2},{\\\\\\'cell_type\\\\\\': \\\\\\'markdown\\\\\\', \\\\\\'metadata\\\\\\': {}, \\\\\\'source\\\\\\': \\\\\\'We can read the notebook by using `read_nb`\\\\\\', \\\\\\'idx_\\\\\\': 3},{\\\\\\'cell_type\\\\\\': \\\\\\'code\\\\\\', \\\\\\'execution_count\\\\\\': 41, \\\\\\'metadata\\\\\\': {}, \\\\\\'outputs\\\\\\': [], \\\\\\'source\\\\\\': \\\\\\'fname = \"jupyter2report.ipynb\"\\\\\\', \\\\\\'idx_\\\\\\': 4},{\\\\\\'cell_type\\\\\\': \\\\\\'code\\\\\\', \\\\\\'execution_count\\\\\\': 42, \\\\\\'metadata\\\\\\': {}, \\\\\\'outputs\\\\\\': [], \\\\\\'source\\\\\\': \\\\\\'nb = read_nb(fname)\\\\\\', \\\\\\'idx_\\\\\\': 5},{\\\\\\'cell_type\\\\\\': \\\\\\'markdown\\\\\\', \\\\\\'metadata\\\\\\': {}, \\\\\\'source\\\\\\': \\\\\\'the output is a dictionary containing the cells:\\\\\\', \\\\\\'idx_\\\\\\': 6},{\\\\\\'cell_type\\\\\\': \\\\\\'code\\\\\\', \\\\\\'execution_count\\\\\\': 43, \\\\\\'metadata\\\\\\': {}, \\\\\\'outputs\\\\\\': [{\\\\\\'data\\\\\\': {\\\\\\'text/plain\\\\\\': [\\\\\\'(#19) [{\\\\\\\\\\\\\\'cell_type\\\\\\\\\\\\\\': \\\\\\\\\\\\\\'markdown\\\\\\\\\\\\\\', \\\\\\\\\\\\\\'metadata\\\\\\\\\\\\\\': {}, \\\\\\\\\\\\\\'source\\\\\\\\\\\\\\': \\\\\\\\\\\\\\'# Converting a jupyter notebook to W&B report\\\\\\\\\\\\\\\\nthis is a subtitle\\\\\\\\\\\\\\', \\\\\\\\\\\\\\'idx_\\\\\\\\\\\\\\': 0},{\\\\\\\\\\\\\\'cell_type\\\\\\\\\\\\\\': \\\\\\\\\\\\\\'markdown\\\\\\\\\\\\\\', \\\\\\\\\\\\\\'metadata\\\\\\\\\\\\\\': {}, \\\\\\\\\\\\\\'source\\\\\\\\\\\\\\': \"We are going to read this notebook and create a report on W&B with it\\\\\\\\\\\\\\'s content\", \\\\\\\\\\\\\\'idx_\\\\\\\\\\\\\\': 1},{\\\\\\\\\\\\\\'cell_type\\\\\\\\\\\\\\': \\\\\\\\\\\\\\'code\\\\\\\\\\\\\\', \\\\\\\\\\\\\\'execution_count\\\\\\\\\\\\\\': 30, \\\\\\\\\\\\\\'metadata\\\\\\\\\\\\\\': {}, \\\\\\\\\\\\\\'outputs\\\\\\\\\\\\\\': [], \\\\\\\\\\\\\\'source\\\\\\\\\\\\\\': \\\\\\\\\\\\\\'import wandb\\\\\\\\\\\\\\\\nimport wandb.apis.reports as wb\\\\\\\\\\\\\\\\n\\\\\\\\\\\\\\\\nfrom execnb.nbio import read_nb\\\\\\\\\\\\\\', \\\\\\\\\\\\\\'idx_\\\\\\\\\\\\\\': 2},{\\\\\\\\\\\\\\'cell_type\\\\\\\\\\\\\\': \\\\\\\\\\\\\\'markdown\\\\\\\\\\\\\\', \\\\\\\\\\\\\\'metadata\\\\\\\\\\\\\\': {}, \\\\\\\\\\\\\\'source\\\\\\\\\\\\\\': \\\\\\\\\\\\\\'We can read the notebook by using `read_nb`\\\\\\\\\\\\\\', \\\\\\\\\\\\\\'idx_\\\\\\\\\\\\\\': 3},{\\\\\\\\\\\\\\'cell_type\\\\\\\\\\\\\\': \\\\\\\\\\\\\\'code\\\\\\\\\\\\\\', \\\\\\\\\\\\\\'execution_count\\\\\\\\\\\\\\': 31, \\\\\\\\\\\\\\'metadata\\\\\\\\\\\\\\': {}, \\\\\\\\\\\\\\'outputs\\\\\\\\\\\\\\': [], \\\\\\\\\\\\\\'source\\\\\\\\\\\\\\': \\\\\\\\\\\\\\'fname = \"jupyter2report.ipynb\"\\\\\\\\\\\\\\', \\\\\\\\\\\\\\'idx_\\\\\\\\\\\\\\': 4},{\\\\\\\\\\\\\\'cell_type\\\\\\\\\\\\\\': \\\\\\\\\\\\\\'code\\\\\\\\\\\\\\', \\\\\\\\\\\\\\'execution_count\\\\\\\\\\\\\\': 32, \\\\\\\\\\\\\\'metadata\\\\\\\\\\\\\\': {}, \\\\\\\\\\\\\\'outputs\\\\\\\\\\\\\\': [], \\\\\\\\\\\\\\'source\\\\\\\\\\\\\\': \\\\\\\\\\\\\\'nb = read_nb(fname)\\\\\\\\\\\\\\', \\\\\\\\\\\\\\'idx_\\\\\\\\\\\\\\': 5},{\\\\\\\\\\\\\\'cell_type\\\\\\\\\\\\\\': \\\\\\\\\\\\\\'markdown\\\\\\\\\\\\\\', \\\\\\\\\\\\\\'metadata\\\\\\\\\\\\\\': {}, \\\\\\\\\\\\\\'source\\\\\\\\\\\\\\': \\\\\\\\\\\\\\'the output is a dictionary containing the cells:\\\\\\\\\\\\\\', \\\\\\\\\\\\\\'idx_\\\\\\\\\\\\\\': 6},{\\\\\\\\\\\\\\'cell_type\\\\\\\\\\\\\\': \\\\\\\\\\\\\\'code\\\\\\\\\\\\\\', \\\\\\\\\\\\\\'execution_count\\\\\\\\\\\\\\': 33, \\\\\\\\\\\\\\'metadata\\\\\\\\\\\\\\': {}, \\\\\\\\\\\\\\'outputs\\\\\\\\\\\\\\': [{\\\\\\\\\\\\\\'data\\\\\\\\\\\\\\': {\\\\\\\\\\\\\\'text/plain\\\\\\\\\\\\\\': [\\\\\\\\\\\\\\'(#19) [{\\\\\\\\\\\\\\\\\\\\\\\\\\\\\\'cell_type\\\\\\\\\\\\\\\\\\\\\\\\\\\\\\': \\\\\\\\\\\\\\\\\\\\\\\\\\\\\\'markdown\\\\\\\\\\\\\\\\\\\\\\\\\\\\\\', \\\\\\\\\\\\\\\\\\\\\\\\\\\\\\'metadata\\\\\\\\\\\\\\\\\\\\\\\\\\\\\\': {}, \\\\\\\\\\\\\\\\\\\\\\\\\\\\\\'source\\\\\\\\\\\\\\\\\\\\\\\\\\\\\\': \\\\\\\\\\\\\\\\\\\\\\\\\\\\\\'# Converting a jupyter notebook to W&B report\\\\\\\\\\\\\\\\\\\\\\\\\\\\\\', \\\\\\\\\\\\\\\\\\\\\\\\\\\\\\'idx_\\\\\\\\\\\\\\\\\\\\\\\\\\\\\\': 0},{\\\\\\\\\\\\\\\\\\\\\\\\\\\\\\'cell_type\\\\\\\\\\\\\\\\\\\\\\\\\\\\\\': \\\\\\\\\\\\\\\\\\\\\\\\\\\\\\'markdown\\\\\\\\\\\\\\\\\\\\\\\\\\\\\\', \\\\\\\\\\\\\\\\\\\\\\\\\\\\\\'metadata\\\\\\\\\\\\\\\\\\\\\\\\\\\\\\': {}, \\\\\\\\\\\\\\\\\\\\\\\\\\\\\\'source\\\\\\\\\\\\\\\\\\\\\\\\\\\\\\': \"We are going to read this notebook and create a report on W&B with it\\\\\\\\\\\\\\\\\\\\\\\\\\\\\\'s content\", \\\\\\\\\\\\\\\\\\\\\\\\\\\\\\'idx_\\\\\\\\\\\\\\\\\\\\\\\\\\\\\\': 1},{\\\\\\\\\\\\\\\\\\\\\\\\\\\\\\'cell_type\\\\\\\\\\\\\\\\\\\\\\\\\\\\\\': \\\\\\\\\\\\\\\\\\\\\\\\\\\\\\'code\\\\\\\\\\\\\\\\\\\\\\\\\\\\\\', \\\\\\\\\\\\\\\\\\\\\\\\\\\\\\'execution_count\\\\\\\\\\\\\\\\\\\\\\\\\\\\\\': 15, \\\\\\\\\\\\\\\\\\\\\\\\\\\\\\'metadata\\\\\\\\\\\\\\\\\\\\\\\\\\\\\\': {}, \\\\\\\\\\\\\\\\\\\\\\\\\\\\\\'outputs\\\\\\\\\\\\\\\\\\\\\\\\\\\\\\': [], \\\\\\\\\\\\\\\\\\\\\\\\\\\\\\'source\\\\\\\\\\\\\\\\\\\\\\\\\\\\\\': \\\\\\\\\\\\\\\\\\\\\\\\\\\\\\'import wandb\\\\\\\\\\\\\\\\\\\\\\\\\\\\\\\\nimport wandb.apis.reports as wb\\\\\\\\\\\\\\\\\\\\\\\\\\\\\\\\n\\\\\\\\\\\\\\\\\\\\\\\\\\\\\\\\nfrom execnb.nbio import read_nb\\\\\\\\\\\\\\\\\\\\\\\\\\\\\\', \\\\\\\\\\\\\\\\\\\\\\\\\\\\\\'idx_\\\\\\\\\\\\\\\\\\\\\\\\\\\\\\': 2},{\\\\\\\\\\\\\\\\\\\\\\\\\\\\\\'cell_type\\\\\\\\\\\\\\\\\\\\\\\\\\\\\\': \\\\\\\\\\\\\\\\\\\\\\\\\\\\\\'markdown\\\\\\\\\\\\\\\\\\\\\\\\\\\\\\', \\\\\\\\\\\\\\\\\\\\\\\\\\\\\\'metadata\\\\\\\\\\\\\\\\\\\\\\\\\\\\\\': {}, \\\\\\\\\\\\\\\\\\\\\\\\\\\\\\'source\\\\\\\\\\\\\\\\\\\\\\\\\\\\\\': \\\\\\\\\\\\\\\\\\\\\\\\\\\\\\'We can read the notebook by using `read_nb`\\\\\\\\\\\\\\\\\\\\\\\\\\\\\\', \\\\\\\\\\\\\\\\\\\\\\\\\\\\\\'idx_\\\\\\\\\\\\\\\\\\\\\\\\\\\\\\': 3},{\\\\\\\\\\\\\\\\\\\\\\\\\\\\\\'cell_type\\\\\\\\\\\\\\\\\\\\\\\\\\\\\\': \\\\\\\\\\\\\\\\\\\\\\\\\\\\\\'code\\\\\\\\\\\\\\\\\\\\\\\\\\\\\\', \\\\\\\\\\\\\\\\\\\\\\\\\\\\\\'execution_count\\\\\\\\\\\\\\\\\\\\\\\\\\\\\\': 16, \\\\\\\\\\\\\\\\\\\\\\\\\\\\\\'metadata\\\\\\\\\\\\\\\\\\\\\\\\\\\\\\': {}, \\\\\\\\\\\\\\\\\\\\\\\\\\\\\\'outputs\\\\\\\\\\\\\\\\\\\\\\\\\\\\\\': [], \\\\\\\\\\\\\\\\\\\\\\\\\\\\\\'source\\\\\\\\\\\\\\\\\\\\\\\\\\\\\\': \\\\\\\\\\\\\\\\\\\\\\\\\\\\\\'fname = \"jupyter2report.ipynb\"\\\\\\\\\\\\\\\\\\\\\\\\\\\\\\', \\\\\\\\\\\\\\\\\\\\\\\\\\\\\\'idx_\\\\\\\\\\\\\\\\\\\\\\\\\\\\\\': 4},{\\\\\\\\\\\\\\\\\\\\\\\\\\\\\\'cell_type\\\\\\\\\\\\\\\\\\\\\\\\\\\\\\': \\\\\\\\\\\\\\\\\\\\\\\\\\\\\\'code\\\\\\\\\\\\\\\\\\\\\\\\\\\\\\', \\\\\\\\\\\\\\\\\\\\\\\\\\\\\\'execution_count\\\\\\\\\\\\\\\\\\\\\\\\\\\\\\': 17, \\\\\\\\\\\\\\\\\\\\\\\\\\\\\\'metadata\\\\\\\\\\\\\\\\\\\\\\\\\\\\\\': {}, \\\\\\\\\\\\\\\\\\\\\\\\\\\\\\'outputs\\\\\\\\\\\\\\\\\\\\\\\\\\\\\\': [], \\\\\\\\\\\\\\\\\\\\\\\\\\\\\\'source\\\\\\\\\\\\\\\\\\\\\\\\\\\\\\': \\\\\\\\\\\\\\\\\\\\\\\\\\\\\\'nb = read_nb(fname)\\\\\\\\\\\\\\\\\\\\\\\\\\\\\\', \\\\\\\\\\\\\\\\\\\\\\\\\\\\\\'idx_\\\\\\\\\\\\\\\\\\\\\\\\\\\\\\': 5},{\\\\\\\\\\\\\\\\\\\\\\\\\\\\\\'cell_type\\\\\\\\\\\\\\\\\\\\\\\\\\\\\\': \\\\\\\\\\\\\\\\\\\\\\\\\\\\\\'markdown\\\\\\\\\\\\\\\\\\\\\\\\\\\\\\', \\\\\\\\\\\\\\\\\\\\\\\\\\\\\\'metadata\\\\\\\\\\\\\\\\\\\\\\\\\\\\\\': {}, \\\\\\\\\\\\\\\\\\\\\\\\\\\\\\'source\\\\\\\\\\\\\\\\\\\\\\\\\\\\\\': \\\\\\\\\\\\\\\\\\\\\\\\\\\\\\'the output is a dictionary containing the cells:\\\\\\\\\\\\\\\\\\\\\\\\\\\\\\', \\\\\\\\\\\\\\\\\\\\\\\\\\\\\\'idx_\\\\\\\\\\\\\\\\\\\\\\\\\\\\\\': 6},{\\\\\\\\\\\\\\\\\\\\\\\\\\\\\\'cell_type\\\\\\\\\\\\\\\\\\\\\\\\\\\\\\': \\\\\\\\\\\\\\\\\\\\\\\\\\\\\\'code\\\\\\\\\\\\\\\\\\\\\\\\\\\\\\', \\\\\\\\\\\\\\\\\\\\\\\\\\\\\\'execution_count\\\\\\\\\\\\\\\\\\\\\\\\\\\\\\': 18, \\\\\\\\\\\\\\\\\\\\\\\\\\\\\\'metadata\\\\\\\\\\\\\\\\\\\\\\\\\\\\\\': {}, \\\\\\\\\\\\\\\\\\\\\\\\\\\\\\'outputs\\\\\\\\\\\\\\\\\\\\\\\\\\\\\\': [{\\\\\\\\\\\\\\\\\\\\\\\\\\\\\\'data\\\\\\\\\\\\\\\\\\\\\\\\\\\\\\': {\\\\\\\\\\\\\\\\\\\\\\\\\\\\\\'text/plain\\\\\\\\\\\\\\\\\\\\\\\\\\\\\\': [\\\\\\\\\\\\\\\\\\\\\\\\\\\\\\'(#5) [{\\\\\\\\\\\\\\\\\\\\\\\\\\\\\\\\\\\\\\\\\\\\\\\\\\\\\\\\\\\\\\'cell_type\\\\\\\\\\\\\\\\\\\\\\\\\\\\\\\\\\\\\\\\\\\\\\\\\\\\\\\\\\\\\\': \\\\\\\\\\\\\\\\\\\\\\\\\\\\\\\\\\\\\\\\\\\\\\\\\\\\\\\\\\\\\\'markdown\\\\\\\\\\\\\\\\\\\\\\\\\\\\\\\\\\\\\\\\\\\\\\\\\\\\\\\\\\\\\\', \\\\\\\\\\\\\\\\\\\\\\\\\\\\\\\\\\\\\\\\\\\\\\\\\\\\\\\\\\\\\\'metadata\\\\\\\\\\\\\\\\\\\\\\\\\\\\\\\\\\\\\\\\\\\\\\\\\\\\\\\\\\\\\\': {}, \\\\\\\\\\\\\\\\\\\\\\\\\\\\\\\\\\\\\\\\\\\\\\\\\\\\\\\\\\\\\\'source\\\\\\\\\\\\\\\\\\\\\\\\\\\\\\\\\\\\\\\\\\\\\\\\\\\\\\\\\\\\\\': \\\\\\\\\\\\\\\\\\\\\\\\\\\\\\\\\\\\\\\\\\\\\\\\\\\\\\\\\\\\\\'# Converting a jupyter notebook to W&B report\\\\\\\\\\\\\\\\\\\\\\\\\\\\\\\\\\\\\\\\\\\\\\\\\\\\\\\\\\\\\\', \\\\\\\\\\\\\\\\\\\\\\\\\\\\\\\\\\\\\\\\\\\\\\\\\\\\\\\\\\\\\\'idx_\\\\\\\\\\\\\\\\\\\\\\\\\\\\\\\\\\\\\\\\\\\\\\\\\\\\\\\\\\\\\\': 0},{\\\\\\\\\\\\\\\\\\\\\\\\\\\\\\\\\\\\\\\\\\\\\\\\\\\\\\\\\\\\\\'cell_type\\\\\\\\\\\\\\\\\\\\\\\\\\\\\\\\\\\\\\\\\\\\\\\\\\\\\\\\\\\\\\': \\\\\\\\\\\\\\\\\\\\\\\\\\\\\\\\\\\\\\\\\\\\\\\\\\\\\\\\\\\\\\'code\\\\\\\\\\\\\\\\\\\\\\\\\\\\\\\\\\\\\\\\\\\\\\\\\\\\\\\\\\\\\\', \\\\\\\\\\\\\\\\\\\\\\\\\\\\\\\\\\\\\\\\\\\\\\\\\\\\\\\\\\\\\\'execution_count\\\\\\\\\\\\\\\\\\\\\\\\\\\\\\\\\\\\\\\\\\\\\\\\\\\\\\\\\\\\\\': 6, \\\\\\\\\\\\\\\\\\\\\\\\\\\\\\\\\\\\\\\\\\\\\\\\\\\\\\\\\\\\\\'metadata\\\\\\\\\\\\\\\\\\\\\\\\\\\\\\\\\\\\\\\\\\\\\\\\\\\\\\\\\\\\\\': {}, \\\\\\\\\\\\\\\\\\\\\\\\\\\\\\\\\\\\\\\\\\\\\\\\\\\\\\\\\\\\\\'outputs\\\\\\\\\\\\\\\\\\\\\\\\\\\\\\\\\\\\\\\\\\\\\\\\\\\\\\\\\\\\\\': [], \\\\\\\\\\\\\\\\\\\\\\\\\\\\\\\\\\\\\\\\\\\\\\\\\\\\\\\\\\\\\\'source\\\\\\\\\\\\\\\\\\\\\\\\\\\\\\\\\\\\\\\\\\\\\\\\\\\\\\\\\\\\\\': \\\\\\\\\\\\\\\\\\\\\\\\\\\\\\\\\\\\\\\\\\\\\\\\\\\\\\\\\\\\\\'import wandb\\\\\\\\\\\\\\\\\\\\\\\\\\\\\\\\\\\\\\\\\\\\\\\\\\\\\\\\\\\\\\\\nimport wandb.apis.reports as wb\\\\\\\\\\\\\\\\\\\\\\\\\\\\\\\\\\\\\\\\\\\\\\\\\\\\\\\\\\\\\\', \\\\\\\\\\\\\\\\\\\\\\\\\\\\\\\\\\\\\\\\\\\\\\\\\\\\\\\\\\\\\\'idx_\\\\\\\\\\\\\\\\\\\\\\\\\\\\\\\\\\\\\\\\\\\\\\\\\\\\\\\\\\\\\\': 1},{\\\\\\\\\\\\\\\\\\\\\\\\\\\\\\\\\\\\\\\\\\\\\\\\\\\\\\\\\\\\\\'cell_type\\\\\\\\\\\\\\\\\\\\\\\\\\\\\\\\\\\\\\\\\\\\\\\\\\\\\\\\\\\\\\': \\\\\\\\\\\\\\\\\\\\\\\\\\\\\\\\\\\\\\\\\\\\\\\\\\\\\\\\\\\\\\'code\\\\\\\\\\\\\\\\\\\\\\\\\\\\\\\\\\\\\\\\\\\\\\\\\\\\\\\\\\\\\\', \\\\\\\\\\\\\\\\\\\\\\\\\\\\\\\\\\\\\\\\\\\\\\\\\\\\\\\\\\\\\\'execution_count\\\\\\\\\\\\\\\\\\\\\\\\\\\\\\\\\\\\\\\\\\\\\\\\\\\\\\\\\\\\\\': 7, \\\\\\\\\\\\\\\\\\\\\\\\\\\\\\\\\\\\\\\\\\\\\\\\\\\\\\\\\\\\\\'metadata\\\\\\\\\\\\\\\\\\\\\\\\\\\\\\\\\\\\\\\\\\\\\\\\\\\\\\\\\\\\\\': {}, \\\\\\\\\\\\\\\\\\\\\\\\\\\\\\\\\\\\\\\\\\\\\\\\\\\\\\\\\\\\\\'outputs\\\\\\\\\\\\\\\\\\\\\\\\\\\\\\\\\\\\\\\\\\\\\\\\\\\\\\\\\\\\\\': [], \\\\\\\\\\\\\\\\\\\\\\\\\\\\\\\\\\\\\\\\\\\\\\\\\\\\\\\\\\\\\\'source\\\\\\\\\\\\\\\\\\\\\\\\\\\\\\\\\\\\\\\\\\\\\\\\\\\\\\\\\\\\\\': \\\\\\\\\\\\\\\\\\\\\\\\\\\\\\\\\\\\\\\\\\\\\\\\\\\\\\\\\\\\\\'api = wandb.Api()\\\\\\\\\\\\\\\\\\\\\\\\\\\\\\\\\\\\\\\\\\\\\\\\\\\\\\\\\\\\\\', \\\\\\\\\\\\\\\\\\\\\\\\\\\\\\\\\\\\\\\\\\\\\\\\\\\\\\\\\\\\\\'idx_\\\\\\\\\\\\\\\\\\\\\\\\\\\\\\\\\\\\\\\\\\\\\\\\\\\\\\\\\\\\\\': 2},{\\\\\\\\\\\\\\\\\\\\\\\\\\\\\\\\\\\\\\\\\\\\\\\\\\\\\\\\\\\\\\'cell_type\\\\\\\\\\\\\\\\\\\\\\\\\\\\\\\\\\\\\\\\\\\\\\\\\\\\\\\\\\\\\\': \\\\\\\\\\\\\\\\\\\\\\\\\\\\\\\\\\\\\\\\\\\\\\\\\\\\\\\\\\\\\\'code\\\\\\\\\\\\\\\\\\\\\\\\\\\\\\\\\\\\\\\\\\\\\\\\\\\\\\\\\\\\\\', \\\\\\\\\\\\\\\\\\\\\\\\\\\\\\\\\\\\\\\\\\\\\\\\\\\\\\\\\\\\\\'execution_count\\\\\\\\\\\\\\\\\\\\\\\\\\\\\\\\\\\\\\\\\\\\\\\\\\\\\\\\\\\\\\': 8, \\\\\\\\\\\\\\\\\\\\\\\\\\\\\\\\\\\\\\\\\\\\\\\\\\\\\\\\\\\\\\'metadata\\\\\\\\\\\\\\\\\\\\\\\\\\\\\\\\\\\\\\\\\\\\\\\\\\\\\\\\\\\\\\': {}, \\\\\\\\\\\\\\\\\\\\\\\\\\\\\\\\\\\\\\\\\\\\\\\\\\\\\\\\\\\\\\'outputs\\\\\\\\\\\\\\\\\\\\\\\\\\\\\\\\\\\\\\\\\\\\\\\\\\\\\\\\\\\\\\': [{\\\\\\\\\\\\\\\\\\\\\\\\\\\\\\\\\\\\\\\\\\\\\\\\\\\\\\\\\\\\\\'name\\\\\\\\\\\\\\\\\\\\\\\\\\\\\\\\\\\\\\\\\\\\\\\\\\\\\\\\\\\\\\': \\\\\\\\\\\\\\\\\\\\\\\\\\\\\\\\\\\\\\\\\\\\\\\\\\\\\\\\\\\\\\'stderr\\\\\\\\\\\\\\\\\\\\\\\\\\\\\\\\\\\\\\\\\\\\\\\\\\\\\\\\\\\\\\', \\\\\\\\\\\\\\\\\\\\\\\\\\\\\\\\\\\\\\\\\\\\\\\\\\\\\\\\\\\\\\'output_type\\\\\\\\\\\\\\\\\\\\\\\\\\\\\\\\\\\\\\\\\\\\\\\\\\\\\\\\\\\\\\': \\\\\\\\\\\\\\\\\\\\\\\\\\\\\\\\\\\\\\\\\\\\\\\\\\\\\\\\\\\\\\'stream\\\\\\\\\\\\\\\\\\\\\\\\\\\\\\\\\\\\\\\\\\\\\\\\\\\\\\\\\\\\\\', \\\\\\\\\\\\\\\\\\\\\\\\\\\\\\\\\\\\\\\\\\\\\\\\\\\\\\\\\\\\\\'text\\\\\\\\\\\\\\\\\\\\\\\\\\\\\\\\\\\\\\\\\\\\\\\\\\\\\\\\\\\\\\': [\\\\\\\\\\\\\\\\\\\\\\\\\\\\\\\\\\\\\\\\\\\\\\\\\\\\\\\\\\\\\\'\\\\\\\\\\\\\\\\\\\\\\\\\\\\\\\\\\\\\\\\\\\\\\\\\\\\\\\\\\\\\\\\x1b[34m\\\\\\\\\\\\\\\\\\\\\\\\\\\\\\\\\\\\\\\\\\\\\\\\\\\\\\\\\\\\\\\\x1b[1mwandb\\\\\\\\\\\\\\\\\\\\\\\\\\\\\\\\\\\\\\\\\\\\\\\\\\\\\\\\\\\\\\\\x1b[0m: \\\\\\\\\\\\\\\\\\\\\\\\\\\\\\\\\\\\\\\\\\\\\\\\\\\\\\\\\\\\\\\\x1b[33mWARNING\\\\\\\\\\\\\\\\\\\\\\\\\\\\\\\\\\\\\\\\\\\\\\\\\\\\\\\\\\\\\\\\x1b[0m This is an experimental feature -- use with caution!\\\\\\\\\\\\\\\\\\\\\\\\\\\\\\\\\\\\\\\\\\\\\\\\\\\\\\\\\\\\\\\\n\\\\\\\\\\\\\\\\\\\\\\\\\\\\\\\\\\\\\\\\\\\\\\\\\\\\\\\\\\\\\\']}], \\\\\\\\\\\\\\\\\\\\\\\\\\\\\\\\\\\\\\\\\\\\\\\\\\\\\\\\\\\\\\'source\\\\\\\\\\\\\\\\\\\\\\\\\\\\\\\\\\\\\\\\\\\\\\\\\\\\\\\\\\\\\\': \"wandb.require(\\\\\\\\\\\\\\\\\\\\\\\\\\\\\\\\\\\\\\\\\\\\\\\\\\\\\\\\\\\\\\'report-editing:v0\\\\\\\\\\\\\\\\\\\\\\\\\\\\\\\\\\\\\\\\\\\\\\\\\\\\\\\\\\\\\\')\", \\\\\\\\\\\\\\\\\\\\\\\\\\\\\\\\\\\\\\\\\\\\\\\\\\\\\\\\\\\\\\'idx_\\\\\\\\\\\\\\\\\\\\\\\\\\\\\\\\\\\\\\\\\\\\\\\\\\\\\\\\\\\\\\': 3},{\\\\\\\\\\\\\\\\\\\\\\\\\\\\\\\\\\\\\\\\\\\\\\\\\\\\\\\\\\\\\\'cell_type\\\\\\\\\\\\\\\\\\\\\\\\\\\\\\\\\\\\\\\\\\\\\\\\\\\\\\\\\\\\\\': \\\\\\\\\\\\\\\\\\\\\\\\\\\\\\\\\\\\\\\\\\\\\\\\\\\\\\\\\\\\\\'code\\\\\\\\\\\\\\\\\\\\\\\\\\\\\\\\\\\\\\\\\\\\\\\\\\\\\\\\\\\\\\', \\\\\\\\\\\\\\\\\\\\\\\\\\\\\\\\\\\\\\\\\\\\\\\\\\\\\\\\\\\\\\'execution_count\\\\\\\\\\\\\\\\\\\\\\\\\\\\\\\\\\\\\\\\\\\\\\\\\\\\\\\\\\\\\\': None, \\\\\\\\\\\\\\\\\\\\\\\\\\\\\\\\\\\\\\\\\\\\\\\\\\\\\\\\\\\\\\'metadata\\\\\\\\\\\\\\\\\\\\\\\\\\\\\\\\\\\\\\\\\\\\\\\\\\\\\\\\\\\\\\': {}, \\\\\\\\\\\\\\\\\\\\\\\\\\\\\\\\\\\\\\\\\\\\\\\\\\\\\\\\\\\\\\'outputs\\\\\\\\\\\\\\\\\\\\\\\\\\\\\\\\\\\\\\\\\\\\\\\\\\\\\\\\\\\\\\': [], \\\\\\\\\\\\\\\\\\\\\\\\\\\\\\\\\\\\\\\\\\\\\\\\\\\\\\\\\\\\\\'source\\\\\\\\\\\\\\\\\\\\\\\\\\\\\\\\\\\\\\\\\\\\\\\\\\\\\\\\\\\\\\': \"report = api.create_report(project=\\\\\\\\\\\\\\\\\\\\\\\\\\\\\\\\\\\\\\\\\\\\\\\\\\\\\\\\\\\\\\'report-editing\\\\\\\\\\\\\\\\\\\\\\\\\\\\\\\\\\\\\\\\\\\\\\\\\\\\\\\\\\\\\\')\\\\\\\\\\\\\\\\\\\\\\\\\\\\\\\\\\\\\\\\\\\\\\\\\\\\\\\\\\\\\\\\nreport.title = \\\\\\\\\\\\\\\\\\\\\\\\\\\\\\\\\\\\\\\\\\\\\\\\\\\\\\\\\\\\\\'A report from a Jupyter notebook\\\\\\\\\\\\\\\\\\\\\\\\\\\\\\\\\\\\\\\\\\\\\\\\\\\\\\\\\\\\\\'\\\\\\\\\\\\\\\\\\\\\\\\\\\\\\\\\\\\\\\\\\\\\\\\\\\\\\\\\\\\\\\\nreport.description = \\\\\\\\\\\\\\\\\\\\\\\\\\\\\\\\\\\\\\\\\\\\\\\\\\\\\\\\\\\\\\'This report comes from th\\\\\\\\\\\\\\\\\\\\\\\\\\\\\\\\\\\\\\\\\\\\\\\\\\\\\\\\\\\\\\'\", \\\\\\\\\\\\\\\\\\\\\\\\\\\\\\\\\\\\\\\\\\\\\\\\\\\\\\\\\\\\\\'idx_\\\\\\\\\\\\\\\\\\\\\\\\\\\\\\\\\\\\\\\\\\\\\\\\\\\\\\\\\\\\\\': 4}]\\\\\\\\\\\\\\\\\\\\\\\\\\\\\\']}, \\\\\\\\\\\\\\\\\\\\\\\\\\\\\\'execution_count\\\\\\\\\\\\\\\\\\\\\\\\\\\\\\': 18, \\\\\\\\\\\\\\\\\\\\\\\\\\\\\\'metadata\\\\\\\\\\\\\\\\\\\\\\\\\\\\\\': {}, \\\\\\\\\\\\\\\\\\\\\\\\\\\\\\'output_type\\\\\\\\\\\\\\\\\\\\\\\\\\\\\\': \\\\\\\\\\\\\\\\\\\\\\\\\\\\\\'execute_result\\\\\\\\\\\\\\\\\\\\\\\\\\\\\\'}], \\\\\\\\\\\\\\\\\\\\\\\\\\\\\\'source\\\\\\\\\\\\\\\\\\\\\\\\\\\\\\': \\\\\\\\\\\\\\\\\\\\\\\\\\\\\\'nb.cells\\\\\\\\\\\\\\\\\\\\\\\\\\\\\\', \\\\\\\\\\\\\\\\\\\\\\\\\\\\\\'idx_\\\\\\\\\\\\\\\\\\\\\\\\\\\\\\': 7},{\\\\\\\\\\\\\\\\\\\\\\\\\\\\\\'cell_type\\\\\\\\\\\\\\\\\\\\\\\\\\\\\\': \\\\\\\\\\\\\\\\\\\\\\\\\\\\\\'markdown\\\\\\\\\\\\\\\\\\\\\\\\\\\\\\', \\\\\\\\\\\\\\\\\\\\\\\\\\\\\\'metadata\\\\\\\\\\\\\\\\\\\\\\\\\\\\\\': {}, \\\\\\\\\\\\\\\\\\\\\\\\\\\\\\'source\\\\\\\\\\\\\\\\\\\\\\\\\\\\\\': \\\\\\\\\\\\\\\\\\\\\\\\\\\\\\'## Creating a report\\\\\\\\\\\\\\\\\\\\\\\\\\\\\\', \\\\\\\\\\\\\\\\\\\\\\\\\\\\\\'idx_\\\\\\\\\\\\\\\\\\\\\\\\\\\\\\': 8},{\\\\\\\\\\\\\\\\\\\\\\\\\\\\\\'cell_type\\\\\\\\\\\\\\\\\\\\\\\\\\\\\\': \\\\\\\\\\\\\\\\\\\\\\\\\\\\\\'code\\\\\\\\\\\\\\\\\\\\\\\\\\\\\\', \\\\\\\\\\\\\\\\\\\\\\\\\\\\\\'execution_count\\\\\\\\\\\\\\\\\\\\\\\\\\\\\\': 19, \\\\\\\\\\\\\\\\\\\\\\\\\\\\\\'metadata\\\\\\\\\\\\\\\\\\\\\\\\\\\\\\': {}, \\\\\\\\\\\\\\\\\\\\\\\\\\\\\\'outputs\\\\\\\\\\\\\\\\\\\\\\\\\\\\\\': [], \\\\\\\\\\\\\\\\\\\\\\\\\\\\\\'source\\\\\\\\\\\\\\\\\\\\\\\\\\\\\\': \\\\\\\\\\\\\\\\\\\\\\\\\\\\\\'api = wandb.Api()\\\\\\\\\\\\\\\\\\\\\\\\\\\\\\', \\\\\\\\\\\\\\\\\\\\\\\\\\\\\\'idx_\\\\\\\\\\\\\\\\\\\\\\\\\\\\\\': 9}...]\\\\\\\\\\\\\\']}, \\\\\\\\\\\\\\'execution_count\\\\\\\\\\\\\\': 33, \\\\\\\\\\\\\\'metadata\\\\\\\\\\\\\\': {}, \\\\\\\\\\\\\\'output_type\\\\\\\\\\\\\\': \\\\\\\\\\\\\\'execute_result\\\\\\\\\\\\\\'}], \\\\\\\\\\\\\\'source\\\\\\\\\\\\\\': \\\\\\\\\\\\\\'nb.cells\\\\\\\\\\\\\\', \\\\\\\\\\\\\\'idx_\\\\\\\\\\\\\\': 7},{\\\\\\\\\\\\\\'cell_type\\\\\\\\\\\\\\': \\\\\\\\\\\\\\'markdown\\\\\\\\\\\\\\', \\\\\\\\\\\\\\'metadata\\\\\\\\\\\\\\': {}, \\\\\\\\\\\\\\'source\\\\\\\\\\\\\\': \\\\\\\\\\\\\\'## Creating a report\\\\\\\\\\\\\\', \\\\\\\\\\\\\\'idx_\\\\\\\\\\\\\\': 8},{\\\\\\\\\\\\\\'cell_type\\\\\\\\\\\\\\': \\\\\\\\\\\\\\'code\\\\\\\\\\\\\\', \\\\\\\\\\\\\\'execution_count\\\\\\\\\\\\\\': 34, \\\\\\\\\\\\\\'metadata\\\\\\\\\\\\\\': {}, \\\\\\\\\\\\\\'outputs\\\\\\\\\\\\\\': [], \\\\\\\\\\\\\\'source\\\\\\\\\\\\\\': \\\\\\\\\\\\\\'api = wandb.Api()\\\\\\\\\\\\\\', \\\\\\\\\\\\\\'idx_\\\\\\\\\\\\\\': 9}...]\\\\\\']}, \\\\\\'execution_count\\\\\\': 43, \\\\\\'metadata\\\\\\': {}, \\\\\\'output_type\\\\\\': \\\\\\'execute_result\\\\\\'}], \\\\\\'source\\\\\\': \\\\\\'nb.cells\\\\\\', \\\\\\'idx_\\\\\\': 7},{\\\\\\'cell_type\\\\\\': \\\\\\'markdown\\\\\\', \\\\\\'metadata\\\\\\': {}, \\\\\\'source\\\\\\': \\\\\\'## Creating a report\\\\\\', \\\\\\'idx_\\\\\\': 8},{\\\\\\'cell_type\\\\\\': \\\\\\'code\\\\\\', \\\\\\'execution_count\\\\\\': 44, \\\\\\'metadata\\\\\\': {}, \\\\\\'outputs\\\\\\': [], \\\\\\'source\\\\\\': \\\\\\'api = wandb.Api()\\\\\\', \\\\\\'idx_\\\\\\': 9}...]\\']}, \\'execution_count\\': 4, \\'metadata\\': {}, \\'output_type\\': \\'execute_result\\'}], \\'source\\': \\'nb.cells\\', \\'idx_\\': 7},{\\'cell_type\\': \\'markdown\\', \\'metadata\\': {}, \\'source\\': \\'## Creating a report\\', \\'idx_\\': 8},{\\'cell_type\\': \\'code\\', \\'execution_count\\': 5, \\'metadata\\': {}, \\'outputs\\': [], \\'source\\': \\'api = wandb.Api()\\', \\'idx_\\': 9}...]']}, 'execution_count': 26, 'metadata': {}, 'output_type': 'execute_result'}], 'source': 'nb.cells', 'idx_': 7},{'cell_type': 'markdown', 'metadata': {}, 'source': '## Creating a report', 'idx_': 8},{'cell_type': 'code', 'execution_count': 27, 'metadata': {}, 'outputs': [], 'source': 'api = wandb.Api()', 'idx_': 9}...]"
      ]
     },
     "execution_count": 45,
     "metadata": {},
     "output_type": "execute_result"
    }
   ],
   "source": [
    "nb.cells"
   ]
  },
  {
   "cell_type": "markdown",
   "metadata": {},
   "source": [
    "## Creating a report"
   ]
  },
  {
   "cell_type": "code",
   "execution_count": 46,
   "metadata": {},
   "outputs": [],
   "source": [
    "api = wandb.Api()"
   ]
  },
  {
   "cell_type": "code",
   "execution_count": 47,
   "metadata": {},
   "outputs": [
    {
     "name": "stderr",
     "output_type": "stream",
     "text": [
      "\u001b[34m\u001b[1mwandb\u001b[0m: \u001b[33mWARNING\u001b[0m This is an experimental feature -- use with caution!\n"
     ]
    }
   ],
   "source": [
    "wandb.require('report-editing:v0')"
   ]
  },
  {
   "cell_type": "code",
   "execution_count": 48,
   "metadata": {},
   "outputs": [],
   "source": [
    "report = api.create_report(project='report-editing')\n",
    "report.title = 'A report from a Jupyter notebook'\n",
    "report.description = 'This report comes from this notebook'"
   ]
  },
  {
   "cell_type": "markdown",
   "metadata": {},
   "source": [
    "let's check the content of a cell:"
   ]
  },
  {
   "cell_type": "code",
   "execution_count": 49,
   "metadata": {},
   "outputs": [
    {
     "data": {
      "text/markdown": [
       "```json\n",
       "{ 'cell_type': 'markdown',\n",
       "  'idx_': 0,\n",
       "  'metadata': {},\n",
       "  'source': '# Converting a jupyter notebook to W&B report\\nthis is a subtitle'}\n",
       "```"
      ],
      "text/plain": [
       "{'cell_type': 'markdown',\n",
       " 'metadata': {},\n",
       " 'source': '# Converting a jupyter notebook to W&B report\\nthis is a subtitle',\n",
       " 'idx_': 0}"
      ]
     },
     "execution_count": 49,
     "metadata": {},
     "output_type": "execute_result"
    }
   ],
   "source": [
    "cell = nb.cells[0]\n",
    "cell"
   ]
  },
  {
   "cell_type": "code",
   "execution_count": 50,
   "metadata": {},
   "outputs": [
    {
     "data": {
      "text/markdown": [
       "```json\n",
       "{ 'cell_type': 'code',\n",
       "  'execution_count': 23,\n",
       "  'idx_': 2,\n",
       "  'metadata': {},\n",
       "  'outputs': [],\n",
       "  'source': 'import wandb\\n'\n",
       "            'import wandb.apis.reports as wb\\n'\n",
       "            '\\n'\n",
       "            'from execnb.nbio import read_nb'}\n",
       "```"
      ],
      "text/plain": [
       "{'cell_type': 'code',\n",
       " 'execution_count': 23,\n",
       " 'metadata': {},\n",
       " 'outputs': (#0) [],\n",
       " 'source': 'import wandb\\nimport wandb.apis.reports as wb\\n\\nfrom execnb.nbio import read_nb',\n",
       " 'idx_': 2}"
      ]
     },
     "execution_count": 50,
     "metadata": {},
     "output_type": "execute_result"
    }
   ],
   "source": [
    "nb.cells[2]"
   ]
  },
  {
   "cell_type": "code",
   "execution_count": 51,
   "metadata": {},
   "outputs": [
    {
     "data": {
      "text/markdown": [
       "```json\n",
       "{ 'cell_type': 'code',\n",
       "  'execution_count': None,\n",
       "  'idx_': 24,\n",
       "  'metadata': {},\n",
       "  'outputs': [],\n",
       "  'source': ''}\n",
       "```"
      ],
      "text/plain": [
       "{'cell_type': 'code',\n",
       " 'execution_count': None,\n",
       " 'metadata': {},\n",
       " 'outputs': (#0) [],\n",
       " 'source': '',\n",
       " 'idx_': 24}"
      ]
     },
     "execution_count": 51,
     "metadata": {},
     "output_type": "execute_result"
    }
   ],
   "source": [
    "nb.cells[-1]"
   ]
  },
  {
   "cell_type": "code",
   "execution_count": 52,
   "metadata": {},
   "outputs": [],
   "source": [
    "def parse_md_cell(cell):\n",
    "    source = cell.source.splitlines()\n",
    "    section = []\n",
    "    for line in source:\n",
    "        if '### ' in line:\n",
    "            section += [wb.H3(line.split(\"### \")[1])]\n",
    "        elif '## ' in line:\n",
    "            section += [wb.H2(line.split(\"## \")[1])]\n",
    "        elif '# ' in line:\n",
    "            section += [wb.H1(line.split(\"# \")[1])]\n",
    "        else:\n",
    "            section += [wb.P(line)]\n",
    "    return section"
   ]
  },
  {
   "cell_type": "code",
   "execution_count": 53,
   "metadata": {},
   "outputs": [
    {
     "data": {
      "text/plain": [
       "[H1(text='Converting a jupyter notebook to W&B report'),\n",
       " P(text='this is a subtitle')]"
      ]
     },
     "execution_count": 53,
     "metadata": {},
     "output_type": "execute_result"
    }
   ],
   "source": [
    "parse_md_cell(cell)"
   ]
  },
  {
   "cell_type": "code",
   "execution_count": 54,
   "metadata": {},
   "outputs": [],
   "source": [
    "def convert_cell(cell):\n",
    "    \"Convert to W&B block\"\n",
    "    if cell.source == '':\n",
    "        return []\n",
    "    if cell.cell_type == \"markdown\":\n",
    "        return parse_md_cell(cell)\n",
    "    if cell.cell_type == \"code\":\n",
    "        return [wb.CodeBlock(cell.source.splitlines())]"
   ]
  },
  {
   "cell_type": "code",
   "execution_count": 55,
   "metadata": {},
   "outputs": [
    {
     "data": {
      "text/plain": [
       "[H1(text='Converting a jupyter notebook to W&B report'),\n",
       " P(text='this is a subtitle')]"
      ]
     },
     "execution_count": 55,
     "metadata": {},
     "output_type": "execute_result"
    }
   ],
   "source": [
    "convert_cell(cell)"
   ]
  },
  {
   "cell_type": "code",
   "execution_count": 56,
   "metadata": {},
   "outputs": [],
   "source": [
    "blocks = []\n",
    "for cell in nb.cells:\n",
    "    blocks += convert_cell(cell)"
   ]
  },
  {
   "cell_type": "code",
   "execution_count": 57,
   "metadata": {},
   "outputs": [
    {
     "data": {
      "text/plain": [
       "[H1(text='Converting a jupyter notebook to W&B report'),\n",
       " P(text='this is a subtitle'),\n",
       " P(text=\"We are going to read this notebook and create a report on W&B with it's content\"),\n",
       " CodeBlock(code=['import wandb', 'import wandb.apis.reports as wb', '', 'from execnb.nbio import read_nb'], language='python'),\n",
       " P(text='We can read the notebook by using `read_nb`'),\n",
       " CodeBlock(code=['fname = \"jupyter2report.ipynb\"'], language='python'),\n",
       " CodeBlock(code=['nb = read_nb(fname)'], language='python'),\n",
       " P(text='the output is a dictionary containing the cells:'),\n",
       " CodeBlock(code=['nb.cells'], language='python'),\n",
       " H2(text='Creating a report'),\n",
       " CodeBlock(code=['api = wandb.Api()'], language='python'),\n",
       " CodeBlock(code=[\"wandb.require('report-editing:v0')\"], language='python'),\n",
       " CodeBlock(code=[\"report = api.create_report(project='report-editing')\", \"report.title = 'A report from a Jupyter notebook'\", \"report.description = 'This report comes from this notebook'\"], language='python'),\n",
       " P(text=\"let's check the content of a cell:\"),\n",
       " CodeBlock(code=['cell = nb.cells[0]', 'cell'], language='python'),\n",
       " CodeBlock(code=['nb.cells[2]'], language='python'),\n",
       " CodeBlock(code=['nb.cells[-1]'], language='python'),\n",
       " CodeBlock(code=['def parse_md_cell(cell):', '    source = cell.source.splitlines()', '    section = []', '    for line in source:', \"        if '### ' in line:\", '            section += [wb.H3(line.split(\"### \")[1])]', \"        elif '## ' in line:\", '            section += [wb.H2(line.split(\"## \")[1])]', \"        elif '# ' in line:\", '            section += [wb.H1(line.split(\"# \")[1])]', '        else:', '            section += [wb.P(line)]', '    return section'], language='python'),\n",
       " CodeBlock(code=['parse_md_cell(cell)'], language='python'),\n",
       " CodeBlock(code=['def convert_cell(cell):', '    \"Convert to W&B block\"', \"    if cell.source == '':\", '        return []', '    if cell.cell_type == \"markdown\":', '        return parse_md_cell(cell)', '    if cell.cell_type == \"code\":', '        return [wb.CodeBlock(cell.source.splitlines())]'], language='python'),\n",
       " CodeBlock(code=['convert_cell(cell)'], language='python'),\n",
       " CodeBlock(code=['blocks = []', 'for cell in nb.cells:', '    blocks += convert_cell(cell)'], language='python'),\n",
       " CodeBlock(code=['blocks'], language='python'),\n",
       " CodeBlock(code=['report.blocks = blocks'], language='python'),\n",
       " CodeBlock(code=['report.save()'], language='python')]"
      ]
     },
     "execution_count": 57,
     "metadata": {},
     "output_type": "execute_result"
    }
   ],
   "source": [
    "blocks"
   ]
  },
  {
   "cell_type": "code",
   "execution_count": 58,
   "metadata": {},
   "outputs": [],
   "source": [
    "report.blocks = blocks"
   ]
  },
  {
   "cell_type": "code",
   "execution_count": 59,
   "metadata": {},
   "outputs": [
    {
     "data": {
      "text/html": [
       "<iframe src=\"https://wandb.ai//capecape/report-editing/reports/A-report-from-a-Jupyter-notebook--VmlldzoyMzM1MjQx?jupyter=true\" style=\"border:none;width:100%;height:1024px;\"></iframe>"
      ],
      "text/plain": [
       "Report(project='report-editing', entity='capecape', title='A report from a Jupyter notebook', description='This report comes from this notebook', width='readable', blocks=[H1(text='Converting a jupyter notebook to W&B report'), P(text=['this is a subtitle']), P(text=[\"We are going to read this notebook and create a report on W&B with it's content\"]), CodeBlock(code=['import wandb', 'import wandb.apis.reports as wb', '', 'from execnb.nbio import read_nb'], language='python'), P(text=['We can read the notebook by using `read_nb`']), CodeBlock(code=['fname = \"jupyter2report.ipynb\"'], language='python'), CodeBlock(code=['nb = read_nb(fname)'], language='python'), P(text=['the output is a dictionary containing the cells:']), CodeBlock(code=['nb.cells'], language='python'), H2(text='Creating a report'), CodeBlock(code=['api = wandb.Api()'], language='python'), CodeBlock(code=[\"wandb.require('report-editing:v0')\"], language='python'), CodeBlock(code=[\"report = api.create_report(project='report-editing')\", \"report.title = 'A report from a Jupyter notebook'\", \"report.description = 'This report comes from this notebook'\"], language='python'), P(text=[\"let's check the content of a cell:\"]), CodeBlock(code=['cell = nb.cells[0]', 'cell'], language='python'), CodeBlock(code=['nb.cells[2]'], language='python'), CodeBlock(code=['nb.cells[-1]'], language='python'), CodeBlock(code=['def parse_md_cell(cell):', '    source = cell.source.splitlines()', '    section = []', '    for line in source:', \"        if '### ' in line:\", '            section += [wb.H3(line.split(\"### \")[1])]', \"        elif '## ' in line:\", '            section += [wb.H2(line.split(\"## \")[1])]', \"        elif '# ' in line:\", '            section += [wb.H1(line.split(\"# \")[1])]', '        else:', '            section += [wb.P(line)]', '    return section'], language='python'), CodeBlock(code=['parse_md_cell(cell)'], language='python'), CodeBlock(code=['def convert_cell(cell):', '    \"Convert to W&B block\"', \"    if cell.source == '':\", '        return []', '    if cell.cell_type == \"markdown\":', '        return parse_md_cell(cell)', '    if cell.cell_type == \"code\":', '        return [wb.CodeBlock(cell.source.splitlines())]'], language='python'), CodeBlock(code=['convert_cell(cell)'], language='python'), CodeBlock(code=['blocks = []', 'for cell in nb.cells:', '    blocks += convert_cell(cell)'], language='python'), CodeBlock(code=['blocks'], language='python'), CodeBlock(code=['report.blocks = blocks'], language='python'), CodeBlock(code=['report.save()'], language='python')])"
      ]
     },
     "execution_count": 59,
     "metadata": {},
     "output_type": "execute_result"
    }
   ],
   "source": [
    "report.save()"
   ]
  },
  {
   "cell_type": "markdown",
   "metadata": {},
   "source": [
    "## Refactor"
   ]
  },
  {
   "cell_type": "markdown",
   "metadata": {},
   "source": [
    "Let's put everything together, we need 1st to get the nb name automatically"
   ]
  },
  {
   "cell_type": "code",
   "execution_count": 76,
   "metadata": {},
   "outputs": [
    {
     "data": {
      "text/plain": [
       "('jupyter2report',\n",
       " Path('/Users/tcapelle/wandb/nb_helpers/dev_nbs/jupyter2report.ipynb'))"
      ]
     },
     "execution_count": 76,
     "metadata": {},
     "output_type": "execute_result"
    }
   ],
   "source": [
    "ipynbname.name(), ipynbname.path()"
   ]
  },
  {
   "cell_type": "code",
   "execution_count": 77,
   "metadata": {},
   "outputs": [],
   "source": [
    "def notebook2report(project, title, description, fname=None):\n",
    "    \"Converts this notebook into a report\"\n",
    "    # reads notebook\n",
    "    nb = read_nb(ipynbname.path() if fname is None else fname)\n",
    "    \n",
    "    #create report\n",
    "    api = wandb.Api()\n",
    "    report = api.create_report(project=project)\n",
    "    report.title = title\n",
    "    report.description = description\n",
    "    \n",
    "    # parse cells\n",
    "    blocks = []\n",
    "    for cell in nb.cells:\n",
    "        blocks += convert_cell(cell)\n",
    "    report.blocks = blocks\n",
    "    return report"
   ]
  },
  {
   "cell_type": "code",
   "execution_count": 78,
   "metadata": {},
   "outputs": [
    {
     "data": {
      "text/html": [
       "<iframe src=\"https://wandb.ai//capecape/report-editing/reports/A-report-from-a-Jupyter-notebook--VmlldzoyMzM1MzQ0?jupyter=true\" style=\"border:none;width:100%;height:1024px;\"></iframe>"
      ],
      "text/plain": [
       "Report(project='report-editing', entity='capecape', title='A report from a Jupyter notebook', description='This report comes from this notebook', width='readable', blocks=[H1(text='Converting a jupyter notebook to W&B report'), P(text=['this is a subtitle']), P(text=[\"Let's install the required libs:\"]), CodeBlock(code=['# this is bash', '!pip install wandb execnb ipynbname'], language='python'), P(text=[\"We are going to read this notebook and create a report on W&B with it's content\"]), CodeBlock(code=['import wandb', 'import wandb.apis.reports as wb', '', 'import ipynbname', 'from execnb.nbio import read_nb'], language='python'), P(text=['We can read the notebook by using `read_nb`']), CodeBlock(code=['fname = \"jupyter2report.ipynb\"'], language='python'), CodeBlock(code=['nb = read_nb(fname)'], language='python'), P(text=['the output is a dictionary containing the cells:']), CodeBlock(code=['nb.cells'], language='python'), H2(text='Creating a report'), CodeBlock(code=['api = wandb.Api()'], language='python'), CodeBlock(code=[\"wandb.require('report-editing:v0')\"], language='python'), CodeBlock(code=[\"report = api.create_report(project='report-editing')\", \"report.title = 'A report from a Jupyter notebook'\", \"report.description = 'This report comes from this notebook'\"], language='python'), P(text=[\"let's check the content of a cell:\"]), CodeBlock(code=['cell = nb.cells[0]', 'cell'], language='python'), CodeBlock(code=['nb.cells[2]'], language='python'), CodeBlock(code=['nb.cells[-1]'], language='python'), CodeBlock(code=['def parse_md_cell(cell):', '    source = cell.source.splitlines()', '    section = []', '    for line in source:', \"        if '### ' in line:\", '            section += [wb.H3(line.split(\"### \")[1])]', \"        elif '## ' in line:\", '            section += [wb.H2(line.split(\"## \")[1])]', \"        elif '# ' in line:\", '            section += [wb.H1(line.split(\"# \")[1])]', '        else:', '            section += [wb.P(line)]', '    return section'], language='python'), CodeBlock(code=['parse_md_cell(cell)'], language='python'), CodeBlock(code=['def convert_cell(cell):', '    \"Convert to W&B block\"', \"    if cell.source == '':\", '        return []', '    if cell.cell_type == \"markdown\":', '        return parse_md_cell(cell)', '    if cell.cell_type == \"code\":', '        return [wb.CodeBlock(cell.source.splitlines())]'], language='python'), CodeBlock(code=['convert_cell(cell)'], language='python'), CodeBlock(code=['blocks = []', 'for cell in nb.cells:', '    blocks += convert_cell(cell)'], language='python'), CodeBlock(code=['blocks'], language='python'), CodeBlock(code=['report.blocks = blocks'], language='python'), CodeBlock(code=['report.save()'], language='python'), H2(text='Refactor'), P(text=[\"Let's put everything together, we need 1st to get the nb name automatically\"]), CodeBlock(code=[''], language='python'), CodeBlock(code=['nb_path'], language='python'), CodeBlock(code=['def notebook2report(project, title, description, fname=None):', '    \"Converts this notebook into a report\"', '    # reads notebook', '    nb_fname = ipynbname.name()', '    nb_path = ipynbname.path()', '    nb = read_nb(nb_path if fname is None else fname)', '    ', '    #create report', '    api = wandb.Api()', '    report = api.create_report(project=project)', '    report.title = title', '    report.description = description', '    ', '    # parse cells', '    blocks = []', '    for cell in nb.cells:', '        blocks += convert_cell(cell)', '    report.blocks = blocks', '    return report'], language='python'), CodeBlock(code=[\"project='report-editing'\", \"title = 'A report from a Jupyter notebook'\", \"description = 'This report comes from this notebook'\", '', 'report = notebook2report(project, title, description)', 'report.save()'], language='python'), H3(text='Another cool thing we could add is the cell outputs')])"
      ]
     },
     "execution_count": 78,
     "metadata": {},
     "output_type": "execute_result"
    }
   ],
   "source": [
    "project='report-editing'\n",
    "title = 'A report from a Jupyter notebook'\n",
    "description = 'This report comes from this notebook'\n",
    "\n",
    "report = notebook2report(project, title, description)\n",
    "report.save()"
   ]
  },
  {
   "cell_type": "markdown",
   "metadata": {},
   "source": [
    "### Another cool thing we could add is the cell outputs"
   ]
  },
  {
   "cell_type": "code",
   "execution_count": null,
   "metadata": {},
   "outputs": [],
   "source": []
  }
 ],
 "metadata": {
  "kernelspec": {
   "display_name": "Python 3 (ipykernel)",
   "language": "python",
   "name": "python3"
  },
  "language_info": {
   "codemirror_mode": {
    "name": "ipython",
    "version": 3
   },
   "file_extension": ".py",
   "mimetype": "text/x-python",
   "name": "python",
   "nbconvert_exporter": "python",
   "pygments_lexer": "ipython3",
   "version": "3.10.5"
  }
 },
 "nbformat": 4,
 "nbformat_minor": 4
}
